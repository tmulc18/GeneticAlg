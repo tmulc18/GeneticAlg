{
 "cells": [
  {
   "cell_type": "markdown",
   "metadata": {},
   "source": [
    "# Imports"
   ]
  },
  {
   "cell_type": "code",
   "execution_count": 3,
   "metadata": {
    "collapsed": true
   },
   "outputs": [],
   "source": [
    "import numpy as np\n",
    "import random"
   ]
  },
  {
   "cell_type": "markdown",
   "metadata": {},
   "source": [
    "# Initialization functions"
   ]
  },
  {
   "cell_type": "code",
   "execution_count": 4,
   "metadata": {
    "collapsed": true
   },
   "outputs": [],
   "source": [
    "#generates a 1D array (solution) of zeros and ones with probability p\n",
    "#\n",
    "#input: random 1d array with values in [0,1)\n",
    "#output: converts values to 1 if element < p\n",
    "def init_1D_p(x,p=0.5):\n",
    "    for i in range(len(x)):\n",
    "        if x[i]<p:\n",
    "            x[i] = 1\n",
    "        else:\n",
    "            x[i]=0\n",
    "    return x"
   ]
  },
  {
   "cell_type": "code",
   "execution_count": 5,
   "metadata": {
    "collapsed": true
   },
   "outputs": [],
   "source": [
    "#initializes k 1D solutions of length n\n",
    "#\n",
    "#output: row i is solution i\n",
    "def init_solns_1D(k,n,p=0.5):\n",
    "    solns = np.zeros((k,n))\n",
    "    for i in range(k):\n",
    "        solns[i] = init_1D_p(np.random.rand(n),p)\n",
    "    return solns"
   ]
  },
  {
   "cell_type": "markdown",
   "metadata": {},
   "source": [
    "# Genetic functions"
   ]
  },
  {
   "cell_type": "code",
   "execution_count": 6,
   "metadata": {
    "collapsed": true
   },
   "outputs": [],
   "source": [
    "#mates x1 and x2 and randomizes elements from child < p\n",
    "def mate_1D(x1,x2):\n",
    "    rand_mate=np.random.rand(len(x1))\n",
    "    result= np.zeros(len(x1))\n",
    "    for i in range(len(x1)):\n",
    "        if rand_mate[i] < 0.5:\n",
    "            result[i] = x1[i]\n",
    "        else:\n",
    "            result[i] = x2[i]          \n",
    "    return result\n",
    "    "
   ]
  },
  {
   "cell_type": "code",
   "execution_count": 7,
   "metadata": {
    "collapsed": true
   },
   "outputs": [],
   "source": [
    "#applies random mutations to elements of x with probability p\n",
    "def random_mutation_1D(x,p=.1):\n",
    "    import random\n",
    "    rand_mate=np.random.rand(len(x))\n",
    "    for i in range(len(x)):\n",
    "        if rand_mate[i]<p:\n",
    "            x[i] = random.sample([0,1],1)[0]\n",
    "    return x"
   ]
  },
  {
   "cell_type": "code",
   "execution_count": 8,
   "metadata": {
    "collapsed": true
   },
   "outputs": [],
   "source": [
    "#mutates a set of solutions\n",
    "def mutate(solns):\n",
    "    for i,soln in enumerate(solns):\n",
    "        solns[i]=random_mutation_1D(soln)\n",
    "    return solns"
   ]
  },
  {
   "cell_type": "markdown",
   "metadata": {},
   "source": [
    "# Constraints"
   ]
  },
  {
   "cell_type": "code",
   "execution_count": 9,
   "metadata": {
    "collapsed": true
   },
   "outputs": [],
   "source": [
    "#x: solutions with each row as a solution\n",
    "#c: coefficients so c_i is constraint coefficient for x_i\n",
    "#ub: the upperbound \n",
    "#\n",
    "#return: boolean value; true if contraint satisfied\n",
    "def Constraint1_UpperBound(x):\n",
    "    c = np.array([1,2,3])\n",
    "    ub=4\n",
    "    return np.dot(x,c)<ub\n",
    "    #return sum(x*c)<ub"
   ]
  },
  {
   "cell_type": "markdown",
   "metadata": {},
   "source": [
    "# Objective Function"
   ]
  },
  {
   "cell_type": "code",
   "execution_count": 10,
   "metadata": {
    "collapsed": false
   },
   "outputs": [],
   "source": [
    "#x: solutions with each row as a solution\n",
    "#o: coefficients of objective function\n",
    "def Linear_Objective(x):\n",
    "    o = np.array([1,2,3])\n",
    "    return np.dot(x,o)"
   ]
  },
  {
   "cell_type": "code",
   "execution_count": 11,
   "metadata": {
    "collapsed": false
   },
   "outputs": [],
   "source": [
    "#create function to store solutions\n",
    "def updateSolnToResult(soln,dictionary,objective_function):\n",
    "    dictionary[str(soln)]=objective_function(soln)\n",
    "    return dictionary"
   ]
  },
  {
   "cell_type": "markdown",
   "metadata": {},
   "source": [
    "# Evalution and Simulations"
   ]
  },
  {
   "cell_type": "code",
   "execution_count": 12,
   "metadata": {
    "collapsed": false
   },
   "outputs": [],
   "source": [
    "#set some hyperparameters for what we're working with and initialize solutions\n",
    "num_steps =100 #number of epochs\n",
    "num_solns = 10 #number of solutions we are working with\n",
    "solnToResult = {}\n",
    "solns = init_solns_1D(num_solns,3)"
   ]
  },
  {
   "cell_type": "code",
   "execution_count": 13,
   "metadata": {
    "collapsed": true
   },
   "outputs": [],
   "source": [
    "#booleans that are true if the index contains a working solution\n",
    "def getWorkingSolutionIndices(constraint_results):\n",
    "    #results = np.array(sum(constraint_results))\n",
    "    results = []\n",
    "    for i in range(len(constraint_results)):\n",
    "        if constraint_results[i] == True:\n",
    "            results.append(i)\n",
    "    return np.array(results)"
   ]
  },
  {
   "cell_type": "code",
   "execution_count": 14,
   "metadata": {
    "collapsed": false
   },
   "outputs": [
    {
     "name": "stdout",
     "output_type": "stream",
     "text": [
      "[[ 0.  1.  0.]\n",
      " [ 0.  1.  0.]\n",
      " [ 0.  1.  0.]\n",
      " [ 0.  1.  0.]\n",
      " [ 0.  1.  0.]\n",
      " [ 0.  1.  0.]\n",
      " [ 0.  1.  0.]\n",
      " [ 0.  1.  0.]\n",
      " [ 0.  1.  0.]\n",
      " [ 0.  1.  0.]]\n"
     ]
    }
   ],
   "source": [
    "#implementation that only cares about satisfying constraint\n",
    "#doesn't care about obj\n",
    "for _ in range(num_steps):\n",
    "    new_solns = np.zeros((num_solns,3))\n",
    "    obj_results = Linear_Objective(solns)\n",
    "    c1_results = Constraint1_UpperBound(solns) #check constraints\n",
    "    #for now, just mate are replace non-working solutions with random ones\n",
    "\n",
    "    #get working solution indices\n",
    "    working_soln_ind = getWorkingSolutionIndices(c1_results)\n",
    "\n",
    "\n",
    "    #replace failed solutions with randmized ones\n",
    "    for i in range(num_solns):\n",
    "        if c1_results[i] == True:\n",
    "            if(len(working_soln_ind)>=2): #check if mating is possible\n",
    "                #pick random solution to mate with (including itself)\n",
    "                mate_index = random.sample(working_soln_ind,1)[0]\n",
    "                offspring = mate_1D(solns[i],solns[mate_index])\n",
    "            else:\n",
    "                offspring = solns[i]\n",
    "        else: #replace it with a some random solutions\n",
    "            offspring = init_1D_p(np.random.rand(3))\n",
    "        new_solns[i] = offspring\n",
    "\n",
    "    solns = new_solns #reset the solution set\n",
    "print solns      "
   ]
  },
  {
   "cell_type": "markdown",
   "metadata": {},
   "source": [
    "Although all the solutions will converge to meet our constraint, it is not the optimal solution. Time for mating to understand attraction. "
   ]
  },
  {
   "cell_type": "code",
   "execution_count": 17,
   "metadata": {
    "collapsed": false
   },
   "outputs": [],
   "source": [
    "#returns a probability distribution with weighted values \n",
    "#corresponding to objective solutions that satisfy constraints\n",
    "def getPDF(solns,working_soln_ind,obj_results):\n",
    "    total = sum(obj_results[working_soln_ind])\n",
    "    prob = np.zeros(len(solns))\n",
    "    for i in working_soln_ind:\n",
    "        prob[i]=obj_results[i]/total\n",
    "    return prob\n",
    "    "
   ]
  },
  {
   "cell_type": "code",
   "execution_count": 18,
   "metadata": {
    "collapsed": true
   },
   "outputs": [],
   "source": [
    "#input:a probability mass function\n",
    "#output: corresponding cdf\n",
    "def getCDF(pmf):\n",
    "    cdf = np.zeros(len(pmf))\n",
    "    running_total = 0\n",
    "    for i,p in enumerate(pmf):\n",
    "        running_total += p\n",
    "        cdf[i] = running_total\n",
    "    return cdf\n",
    "        "
   ]
  },
  {
   "cell_type": "code",
   "execution_count": 19,
   "metadata": {
    "collapsed": true
   },
   "outputs": [],
   "source": [
    "#samples pmf once and returns the index of the random sample\n",
    "def sample_p_dist(pmf):\n",
    "    cdf = getCDF(pmf)\n",
    "    rand_num = random.random()\n",
    "    return np.argmax(cdf==cdf[np.argmax(cdf>rand_num)])"
   ]
  },
  {
   "cell_type": "code",
   "execution_count": 21,
   "metadata": {
    "collapsed": true
   },
   "outputs": [],
   "source": [
    "#reinitialize the solns\n",
    "solnToResult={}\n",
    "solns = init_solns_1D(num_solns,3)"
   ]
  },
  {
   "cell_type": "code",
   "execution_count": 22,
   "metadata": {
    "collapsed": false
   },
   "outputs": [
    {
     "name": "stdout",
     "output_type": "stream",
     "text": [
      "[[ 1.  1.  0.]\n",
      " [ 1.  1.  1.]\n",
      " [ 1.  1.  0.]\n",
      " [ 1.  1.  0.]\n",
      " [ 1.  1.  0.]\n",
      " [ 1.  1.  0.]\n",
      " [ 1.  1.  0.]\n",
      " [ 1.  1.  0.]\n",
      " [ 1.  1.  0.]\n",
      " [ 0.  1.  0.]]\n"
     ]
    }
   ],
   "source": [
    "#implementation that cares about satisfying constraint and maximizing our function\n",
    "for _ in range(num_steps):\n",
    "    new_solns = np.zeros((num_solns,3))\n",
    "    obj_results = Linear_Objective(solns) #get objective value for each solution\n",
    "    c1_results = Constraint1_UpperBound(solns) #check constraints\n",
    "    \n",
    "    #get working solution indices\n",
    "    working_soln_ind = getWorkingSolutionIndices(c1_results)\n",
    "    \n",
    "    #get pmf of distribution to sample from\n",
    "    prob = getPDF(solns,working_soln_ind,obj_results)\n",
    "\n",
    "    #replace failed solutions with randmized ones\n",
    "    for i in range(num_solns):\n",
    "        if c1_results[i] == True:\n",
    "            updateSolnToResult(solns[i],solnToResult,Linear_Objective)\n",
    "            if(len(working_soln_ind)>=2): #check if mating is possible\n",
    "                #pick random solution to mate with according to the pmf from weighted obj results\n",
    "                mate_index=sample_p_dist(prob)\n",
    "                offspring = mate_1D(solns[i],solns[mate_index])\n",
    "            else:\n",
    "                offspring = solns[i]\n",
    "        else: #replace it with a some working solutions\n",
    "            if(len(working_soln_ind)>=2): #check if mating is possible\n",
    "                mate_index1,mate_index2 = sample_p_dist(prob),sample_p_dist(prob)\n",
    "                offspring = mate_1D(solns[mate_index1],solns[mate_index2])\n",
    "            else: #replace it with a some random solutions\n",
    "                offspring = init_1D_p(np.random.rand(3))\n",
    "        new_solns[i] = offspring\n",
    "        \n",
    "    solns = mutate(new_solns) #reset the solution set and mutate\n",
    "    \n",
    "print solns"
   ]
  },
  {
   "cell_type": "code",
   "execution_count": 23,
   "metadata": {
    "collapsed": false
   },
   "outputs": [
    {
     "name": "stdout",
     "output_type": "stream",
     "text": [
      "{'[ 0.  0.  1.]': 3.0, '[ 1.  1.  0.]': 3.0, '[ 1.  0.  0.]': 1.0, '[ 0.  1.  0.]': 2.0, '[ 0.  0.  0.]': 0.0}\n"
     ]
    }
   ],
   "source": [
    "print solnToResult"
   ]
  },
  {
   "cell_type": "code",
   "execution_count": null,
   "metadata": {
    "collapsed": true
   },
   "outputs": [],
   "source": []
  }
 ],
 "metadata": {
  "kernelspec": {
   "display_name": "Python [tensorflow]",
   "language": "python",
   "name": "Python [tensorflow]"
  },
  "language_info": {
   "codemirror_mode": {
    "name": "ipython",
    "version": 2
   },
   "file_extension": ".py",
   "mimetype": "text/x-python",
   "name": "python",
   "nbconvert_exporter": "python",
   "pygments_lexer": "ipython2",
   "version": "2.7.12"
  }
 },
 "nbformat": 4,
 "nbformat_minor": 0
}
